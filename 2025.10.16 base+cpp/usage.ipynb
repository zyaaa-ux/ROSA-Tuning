{
 "cells": [
  {
   "cell_type": "code",
   "execution_count": null,
   "id": "92edf9cb",
   "metadata": {},
   "outputs": [],
   "source": [
    "cd ...\n",
    "\n",
    "python setup.py build_ext --inplace --force\n"
   ]
  }
 ],
 "metadata": {
  "language_info": {
   "name": "python"
  }
 },
 "nbformat": 4,
 "nbformat_minor": 5
}
